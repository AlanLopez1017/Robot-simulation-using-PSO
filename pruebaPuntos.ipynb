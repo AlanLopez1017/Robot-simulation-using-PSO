{
 "cells": [
  {
   "cell_type": "code",
   "execution_count": 1,
   "metadata": {},
   "outputs": [],
   "source": [
    "import numpy as np\n",
    "import matplotlib.pyplot as plt\n",
    "import pandas as pd"
   ]
  },
  {
   "cell_type": "code",
   "execution_count": 22,
   "metadata": {},
   "outputs": [],
   "source": [
    "data = [[531, 497], [533, 496], [535, 494], [533, 495], [531, 496], [537, 493], [539, 492], [539, 491], [537, 492], [541, 490], [532, 495], [535, 493], [532, 494], [534, 493], [541, 489], [539, 490], [536, 492], [536, 491], [543, 488], [534, 492], [532, 493], [538, 490], [540, 488], [543, 487], [538, 489], [542, 487], [531, 493], [536, 490], [534, 491], [531, 492], [533, 491], [540, 487], [535, 490], [538, 488], [535, 489], [537, 488], [533, 490], [539, 487], [531, 491], [539, 486], [541, 485], [537, 487], [544, 484], [535, 488], [543, 483], [532, 489], [541, 484], [534, 488], [539, 485], [545, 482], [536, 486], [545, 481], [534, 487], [538, 485], [532, 488], [540, 483], [538, 484], [542, 482], [536, 485], [544, 480], [531, 488], [534, 486], [542, 481], [531, 487], [533, 486], [535, 485], [538, 483], [535, 484], [537, 483], [539, 482], [533, 485], [539, 481], [531, 486], [541, 480], [537, 482], [543, 478], [535, 483], [541, 479], [532, 485], [532, 484], [534, 483], [539, 480], [536, 481], [543, 477], [538, 480], [534, 482], [540, 478], [542, 477], [532, 483], [538, 479], [544, 475], [536, 480], [531, 483], [542, 476], [533, 481], [540, 477], [535, 480], [531, 482], [537, 478], [539, 477], [153, 465], [151, 463], [149, 462], [148, 462], [146, 461], [148, 463], [152, 465], [144, 460], [146, 462], [142, 459], [150, 465], [144, 461], [143, 461], [145, 462], [141, 460], [145, 463], [149, 465], [143, 462], [139, 459], [141, 461], [147, 465], [138, 460], [140, 461], [142, 462], [142, 463], [136, 459], [140, 462], [134, 458], [138, 461], [144, 465], [135, 460], [133, 458], [137, 461], [140, 463], [139, 463], [137, 462], [133, 459], [135, 461], [130, 458], [141, 465], [132, 460], [130, 459], [137, 463], [134, 461], [136, 463], [134, 462], [132, 461], [128, 458], [138, 465], [130, 460], [129, 460], [134, 463], [131, 461], [131, 462], [133, 463], [129, 461], [135, 465], [127, 460], [126, 460], [131, 463], [129, 462], [128, 462], [126, 461], [130, 463], [133, 465], [132, 465], [128, 463], [126, 462], [125, 462], [130, 465], [127, 463], [129, 465], [125, 463], [127, 465], [126, 465], [124, 465], [123, 465]]"
   ]
  },
  {
   "cell_type": "code",
   "execution_count": 23,
   "metadata": {},
   "outputs": [
    {
     "data": {
      "text/plain": [
       "<matplotlib.collections.PathCollection at 0x15df1aadc10>"
      ]
     },
     "execution_count": 23,
     "metadata": {},
     "output_type": "execute_result"
    },
    {
     "data": {
      "image/png": "[encoded data removed]",
      "text/plain": [
       "<Figure size 432x288 with 1 Axes>"
      ]
     },
     "metadata": {
      "needs_background": "light"
     },
     "output_type": "display_data"
    }
   ],
   "source": [
    "x = []\n",
    "y = []\n",
    "for i in range(len(data)):\n",
    "    x.append(data[i][0])\n",
    "    y.append(data[i][1])\n",
    "\n",
    "plt.scatter(x,y)"
   ]
  },
  {
   "cell_type": "code",
   "execution_count": 14,
   "metadata": {},
   "outputs": [
    {
     "name": "stdout",
     "output_type": "stream",
     "text": [
      "0\n",
      "1\n",
      "2\n",
      "3\n",
      "4\n",
      "5\n",
      "6\n",
      "7\n",
      "8\n",
      "9\n",
      "10\n",
      "11\n",
      "12\n",
      "13\n",
      "14\n",
      "15\n",
      "16\n",
      "17\n",
      "18\n",
      "19\n",
      "20\n",
      "21\n",
      "22\n",
      "23\n",
      "24\n",
      "25\n",
      "26\n",
      "27\n",
      "28\n",
      "29\n",
      "30\n",
      "31\n",
      "32\n",
      "33\n",
      "34\n",
      "35\n",
      "36\n",
      "37\n",
      "38\n",
      "39\n",
      "40\n",
      "41\n",
      "42\n",
      "43\n",
      "44\n",
      "45\n",
      "46\n",
      "47\n",
      "48\n",
      "49\n",
      "50\n",
      "51\n",
      "52\n",
      "53\n",
      "54\n",
      "55\n",
      "56\n",
      "57\n",
      "58\n",
      "59\n",
      "60\n",
      "61\n",
      "62\n",
      "63\n",
      "64\n",
      "65\n",
      "66\n",
      "67\n",
      "68\n",
      "69\n",
      "70\n",
      "71\n",
      "72\n",
      "73\n",
      "74\n",
      "75\n",
      "76\n",
      "77\n",
      "78\n",
      "79\n",
      "80\n",
      "81\n",
      "82\n",
      "83\n",
      "84\n",
      "85\n",
      "86\n",
      "87\n",
      "88\n",
      "89\n",
      "90\n",
      "91\n",
      "92\n",
      "93\n",
      "94\n",
      "95\n",
      "96\n",
      "97\n",
      "98\n",
      "99\n",
      "100\n",
      "101\n",
      "102\n",
      "103\n",
      "104\n",
      "105\n",
      "106\n",
      "107\n",
      "108\n",
      "109\n",
      "110\n",
      "111\n",
      "112\n",
      "113\n",
      "114\n",
      "115\n",
      "116\n",
      "117\n",
      "118\n",
      "119\n",
      "120\n",
      "121\n",
      "122\n",
      "123\n",
      "124\n",
      "125\n",
      "126\n",
      "127\n",
      "128\n",
      "129\n",
      "130\n",
      "131\n",
      "132\n",
      "133\n",
      "134\n",
      "135\n",
      "136\n",
      "137\n",
      "138\n",
      "139\n"
     ]
    }
   ],
   "source": []
  }
 ],
 "metadata": {
  "kernelspec": {
   "display_name": "Python 3",
   "language": "python",
   "name": "python3"
  },
  "language_info": {
   "codemirror_mode": {
    "name": "ipython",
    "version": 3
   },
   "file_extension": ".py",
   "mimetype": "text/x-python",
   "name": "python",
   "nbconvert_exporter": "python",
   "pygments_lexer": "ipython3",
   "version": "3.9.7"
  },
  "orig_nbformat": 4
 },
 "nbformat": 4,
 "nbformat_minor": 2
}
